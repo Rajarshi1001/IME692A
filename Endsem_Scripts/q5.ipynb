{
 "cells": [
  {
   "cell_type": "code",
   "execution_count": 1,
   "metadata": {},
   "outputs": [
    {
     "name": "stdout",
     "output_type": "stream",
     "text": [
      "Explained Variance Ratio:\n",
      "[0.52373256 0.37156587 0.09822466 0.00647692]\n",
      "\n",
      "Principal Components:\n",
      "[[-0.10644699  0.60303581  0.78904956  0.04916955]\n",
      " [ 0.12625879  0.7948017  -0.59256823  0.03481192]\n",
      " [-0.98601589  0.03795508 -0.16056238 -0.02349053]\n",
      " [-0.02237021 -0.05654633 -0.02198649  0.99790715]]\n"
     ]
    },
    {
     "data": {
      "image/png": "[encoded data removed]",
      "text/plain": [
       "<Figure size 576x432 with 1 Axes>"
      ]
     },
     "metadata": {
      "needs_background": "light"
     },
     "output_type": "display_data"
    }
   ],
   "source": [
    "import pandas as pd\n",
    "from sklearn.decomposition import PCA\n",
    "import matplotlib.pyplot as plt\n",
    "\n",
    "# Create a DataFrame from your data\n",
    "data = pd.DataFrame({\n",
    "    'F1': [3.2, 3.1, 3.25, 3.15, 3.2, 3.25, 3.1, 3.15, 3.2, 3.15],\n",
    "    'F2': [6.7, 6.75, 6.65, 6.6, 6.5, 6.75, 6.65, 6.55, 6.45, 6.5],\n",
    "    'F3': [2.2, 2.1, 2, 1.9, 1.85, 1.85, 1.95, 2.05, 2, 2.05],\n",
    "    'F4': [0.2, 0.23, 0.22, 0.21, 0.19, 0.2, 0.19, 0.2, 0.21, 0.18]\n",
    "})\n",
    "\n",
    "# Perform PCA\n",
    "pca = PCA()\n",
    "pca.fit(data)\n",
    "\n",
    "# Explained Variance Ratio\n",
    "explained_variance_ratio = pca.explained_variance_ratio_\n",
    "\n",
    "# Principal Components\n",
    "principal_components = pca.components_\n",
    "\n",
    "# Print explained variance ratio and principal components\n",
    "print(\"Explained Variance Ratio:\")\n",
    "print(explained_variance_ratio)\n",
    "\n",
    "print(\"\\nPrincipal Components:\")\n",
    "print(principal_components)\n",
    "\n",
    "# Plot explained variance ratio\n",
    "plt.figure(figsize=(8, 6))\n",
    "plt.bar(range(1, len(explained_variance_ratio) + 1), explained_variance_ratio)\n",
    "plt.xlabel('Principal Component')\n",
    "plt.ylabel('Explained Variance Ratio')\n",
    "plt.title('Explained Variance Ratio for Principal Components')\n",
    "plt.show()\n"
   ]
  },
  {
   "cell_type": "code",
   "execution_count": 2,
   "metadata": {},
   "outputs": [
    {
     "name": "stdout",
     "output_type": "stream",
     "text": [
      "Correlation Matrix:\n",
      "              F1            F2        F3        F4\n",
      "F1  1.000000e+00  2.929973e-15 -0.253306  0.034417\n",
      "F2  2.929973e-15  1.000000e+00  0.166595  0.428822\n",
      "F3 -2.533056e-01  1.665953e-01  1.000000  0.209710\n",
      "F4  3.441734e-02  4.288219e-01  0.209710  1.000000\n"
     ]
    }
   ],
   "source": [
    "import pandas as pd\n",
    "\n",
    "# Create a DataFrame from your data\n",
    "data = pd.DataFrame({\n",
    "    'F1': [3.2, 3.1, 3.25, 3.15, 3.2, 3.25, 3.1, 3.15, 3.2, 3.15],\n",
    "    'F2': [6.7, 6.75, 6.65, 6.6, 6.5, 6.75, 6.65, 6.55, 6.45, 6.5],\n",
    "    'F3': [2.2, 2.1, 2, 1.9, 1.85, 1.85, 1.95, 2.05, 2, 2.05],\n",
    "    'F4': [0.2, 0.23, 0.22, 0.21, 0.19, 0.2, 0.19, 0.2, 0.21, 0.18]\n",
    "})\n",
    "\n",
    "# Calculate the correlation matrix\n",
    "correlation_matrix = data.corr()\n",
    "\n",
    "# Print the correlation matrix\n",
    "print(\"Correlation Matrix:\")\n",
    "print(correlation_matrix)\n"
   ]
  },
  {
   "cell_type": "code",
   "execution_count": 3,
   "metadata": {},
   "outputs": [
    {
     "name": "stdout",
     "output_type": "stream",
     "text": [
      "Eigenvalues:\n",
      "[1.57182094 1.17141858 0.69683358 0.5599269 ]\n",
      "\n",
      "Eigenvectors:\n",
      "[[ 0.17487189  0.76916215 -0.58818438 -0.17846159]\n",
      " [-0.6011502   0.29404824  0.39647789 -0.62845791]\n",
      " [-0.47842545 -0.47924389 -0.7048422  -0.21126255]\n",
      " [-0.61574942  0.30372769 -0.00647217  0.72702149]]\n"
     ]
    }
   ],
   "source": [
    "import numpy as np\n",
    "\n",
    "\n",
    "\n",
    "# Calculate eigenvalues and eigenvectors\n",
    "eigenvalues, eigenvectors = np.linalg.eig(correlation_matrix)\n",
    "\n",
    "# Print eigenvalues and eigenvectors\n",
    "print(\"Eigenvalues:\")\n",
    "print(eigenvalues)\n",
    "\n",
    "print(\"\\nEigenvectors:\")\n",
    "print(eigenvectors)\n"
   ]
  },
  {
   "cell_type": "code",
   "execution_count": 4,
   "metadata": {},
   "outputs": [
    {
     "name": "stdout",
     "output_type": "stream",
     "text": [
      "Variances of Features:\n",
      "F1    0.002917\n",
      "F2    0.011556\n",
      "F3    0.012472\n",
      "F4    0.000223\n",
      "dtype: float64\n",
      "\n",
      "Feature(s) with Largest Variance:\n",
      "F3\n"
     ]
    }
   ],
   "source": [
    "import pandas as pd\n",
    "\n",
    "# Create a DataFrame from your data\n",
    "data = pd.DataFrame({\n",
    "    'F1': [3.2, 3.1, 3.25, 3.15, 3.2, 3.25, 3.1, 3.15, 3.2, 3.15],\n",
    "    'F2': [6.7, 6.75, 6.65, 6.6, 6.5, 6.75, 6.65, 6.55, 6.45, 6.5],\n",
    "    'F3': [2.2, 2.1, 2, 1.9, 1.85, 1.85, 1.95, 2.05, 2, 2.05],\n",
    "    'F4': [0.2, 0.23, 0.22, 0.21, 0.19, 0.2, 0.19, 0.2, 0.21, 0.18]\n",
    "})\n",
    "\n",
    "# Calculate the variances of each feature\n",
    "variances = data.var()\n",
    "\n",
    "# Find the feature(s) with the largest variance\n",
    "max_variance_features = variances.idxmax()\n",
    "\n",
    "# Print the variances and the feature(s) with the largest variance\n",
    "print(\"Variances of Features:\")\n",
    "print(variances)\n",
    "\n",
    "print(\"\\nFeature(s) with Largest Variance:\")\n",
    "print(max_variance_features)\n"
   ]
  }
 ],
 "metadata": {
  "kernelspec": {
   "display_name": "Python 3",
   "language": "python",
   "name": "python3"
  },
  "language_info": {
   "codemirror_mode": {
    "name": "ipython",
    "version": 3
   },
   "file_extension": ".py",
   "mimetype": "text/x-python",
   "name": "python",
   "nbconvert_exporter": "python",
   "pygments_lexer": "ipython3",
   "version": "3.9.5"
  }
 },
 "nbformat": 4,
 "nbformat_minor": 2
}
