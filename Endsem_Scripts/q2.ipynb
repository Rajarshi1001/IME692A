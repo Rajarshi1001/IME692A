{
 "cells": [
  {
   "cell_type": "code",
   "execution_count": 58,
   "metadata": {},
   "outputs": [],
   "source": [
    "import pandas as pd\n",
    "import numpy as np\n",
    "import matplotlib.pyplot as plt\n",
    "import numpy.linalg as l\n",
    "from sklearn.metrics import mean_absolute_error, mean_squared_error\n",
    "import numpy as np\n",
    "import scipy.stats as stats"
   ]
  },
  {
   "cell_type": "code",
   "execution_count": 89,
   "metadata": {},
   "outputs": [
    {
     "data": {
      "text/html": [
       "<div>\n",
       "<style scoped>\n",
       "    .dataframe tbody tr th:only-of-type {\n",
       "        vertical-align: middle;\n",
       "    }\n",
       "\n",
       "    .dataframe tbody tr th {\n",
       "        vertical-align: top;\n",
       "    }\n",
       "\n",
       "    .dataframe thead th {\n",
       "        text-align: right;\n",
       "    }\n",
       "</style>\n",
       "<table border=\"1\" class=\"dataframe\">\n",
       "  <thead>\n",
       "    <tr style=\"text-align: right;\">\n",
       "      <th></th>\n",
       "      <th>Y</th>\n",
       "      <th>const</th>\n",
       "      <th>X1</th>\n",
       "      <th>X2</th>\n",
       "      <th>X3</th>\n",
       "      <th>X4</th>\n",
       "    </tr>\n",
       "  </thead>\n",
       "  <tbody>\n",
       "    <tr>\n",
       "      <th>0</th>\n",
       "      <td>8.0</td>\n",
       "      <td>1</td>\n",
       "      <td>78</td>\n",
       "      <td>284</td>\n",
       "      <td>9.1</td>\n",
       "      <td>109</td>\n",
       "    </tr>\n",
       "    <tr>\n",
       "      <th>1</th>\n",
       "      <td>9.3</td>\n",
       "      <td>1</td>\n",
       "      <td>68</td>\n",
       "      <td>433</td>\n",
       "      <td>8.7</td>\n",
       "      <td>144</td>\n",
       "    </tr>\n",
       "    <tr>\n",
       "      <th>2</th>\n",
       "      <td>7.5</td>\n",
       "      <td>1</td>\n",
       "      <td>70</td>\n",
       "      <td>739</td>\n",
       "      <td>7.2</td>\n",
       "      <td>113</td>\n",
       "    </tr>\n",
       "    <tr>\n",
       "      <th>3</th>\n",
       "      <td>8.9</td>\n",
       "      <td>1</td>\n",
       "      <td>96</td>\n",
       "      <td>1792</td>\n",
       "      <td>8.9</td>\n",
       "      <td>97</td>\n",
       "    </tr>\n",
       "    <tr>\n",
       "      <th>4</th>\n",
       "      <td>10.2</td>\n",
       "      <td>1</td>\n",
       "      <td>74</td>\n",
       "      <td>477</td>\n",
       "      <td>8.3</td>\n",
       "      <td>206</td>\n",
       "    </tr>\n",
       "    <tr>\n",
       "      <th>5</th>\n",
       "      <td>8.3</td>\n",
       "      <td>1</td>\n",
       "      <td>111</td>\n",
       "      <td>362</td>\n",
       "      <td>10.9</td>\n",
       "      <td>124</td>\n",
       "    </tr>\n",
       "    <tr>\n",
       "      <th>6</th>\n",
       "      <td>8.8</td>\n",
       "      <td>1</td>\n",
       "      <td>77</td>\n",
       "      <td>671</td>\n",
       "      <td>10.0</td>\n",
       "      <td>152</td>\n",
       "    </tr>\n",
       "    <tr>\n",
       "      <th>7</th>\n",
       "      <td>8.8</td>\n",
       "      <td>1</td>\n",
       "      <td>168</td>\n",
       "      <td>636</td>\n",
       "      <td>9.1</td>\n",
       "      <td>162</td>\n",
       "    </tr>\n",
       "    <tr>\n",
       "      <th>8</th>\n",
       "      <td>10.7</td>\n",
       "      <td>1</td>\n",
       "      <td>82</td>\n",
       "      <td>329</td>\n",
       "      <td>8.7</td>\n",
       "      <td>150</td>\n",
       "    </tr>\n",
       "    <tr>\n",
       "      <th>9</th>\n",
       "      <td>11.7</td>\n",
       "      <td>1</td>\n",
       "      <td>89</td>\n",
       "      <td>634</td>\n",
       "      <td>7.6</td>\n",
       "      <td>134</td>\n",
       "    </tr>\n",
       "  </tbody>\n",
       "</table>\n",
       "</div>"
      ],
      "text/plain": [
       "      Y  const   X1    X2    X3   X4\n",
       "0   8.0      1   78   284   9.1  109\n",
       "1   9.3      1   68   433   8.7  144\n",
       "2   7.5      1   70   739   7.2  113\n",
       "3   8.9      1   96  1792   8.9   97\n",
       "4  10.2      1   74   477   8.3  206\n",
       "5   8.3      1  111   362  10.9  124\n",
       "6   8.8      1   77   671  10.0  152\n",
       "7   8.8      1  168   636   9.1  162\n",
       "8  10.7      1   82   329   8.7  150\n",
       "9  11.7      1   89   634   7.6  134"
      ]
     },
     "execution_count": 89,
     "metadata": {},
     "output_type": "execute_result"
    }
   ],
   "source": [
    "data = pd.read_csv(\"2a.csv\")\n",
    "data.insert(1, 'const', 1)\n",
    "data.head(10)"
   ]
  },
  {
   "cell_type": "code",
   "execution_count": 90,
   "metadata": {},
   "outputs": [],
   "source": [
    "data = data.iloc[:54,:]"
   ]
  },
  {
   "cell_type": "markdown",
   "metadata": {},
   "source": [
    "## Part i"
   ]
  },
  {
   "cell_type": "code",
   "execution_count": 91,
   "metadata": {},
   "outputs": [
    {
     "name": "stdout",
     "output_type": "stream",
     "text": [
      "Regression coefficients: \n",
      "[ 1.16665362e+01  8.16322699e-03  5.33471694e-04 -3.17249924e-01\n",
      " -6.67795114e-03]\n"
     ]
    }
   ],
   "source": [
    "X = np.array(data.iloc[:45,1:])\n",
    "y = np.array(data.iloc[:45,0])\n",
    "X_transpose = X.T\n",
    "XtX = np.dot(X_transpose, X)\n",
    "XtX_inv = np.linalg.inv(XtX)\n",
    "Xty = np.dot(X_transpose, y)\n",
    "beta = np.dot(XtX_inv, Xty)\n",
    "print(\"Regression coefficients: \")\n",
    "print(beta)"
   ]
  },
  {
   "cell_type": "code",
   "execution_count": 95,
   "metadata": {},
   "outputs": [
    {
     "name": "stdout",
     "output_type": "stream",
     "text": [
      "predictied values from 46 to 53:\n",
      "[ 8.66016434  9.46211807  9.17757627 10.16851664  9.86690097  9.69766263\n",
      "  9.06935239  9.31206337]\n"
     ]
    }
   ],
   "source": [
    "# predictions\n",
    "x_test = np.array(data.iloc[45:54,1:])\n",
    "outputs = np.dot(x_test, beta)\n",
    "print(\"predictied values from 46 to 53:\")\n",
    "print(outputs)"
   ]
  },
  {
   "cell_type": "code",
   "execution_count": 96,
   "metadata": {},
   "outputs": [
    {
     "name": "stdout",
     "output_type": "stream",
     "text": [
      "Mean absolute error: 1.491751167599547\n",
      "Mean squared error: 2.9513211841139992\n"
     ]
    },
    {
     "data": {
      "image/png": "[encoded data removed]",
      "text/plain": [
       "<Figure size 720x432 with 1 Axes>"
      ]
     },
     "metadata": {
      "needs_background": "light"
     },
     "output_type": "display_data"
    }
   ],
   "source": [
    "actual_y = data.iloc[45:54, 0]\n",
    "\n",
    "# Create a DataFrame with both actual and predicted values\n",
    "results_df = pd.DataFrame({\n",
    "    'Actual Y': actual_y,\n",
    "    'Predicted Y': outputs\n",
    "})\n",
    "\n",
    "print(\"Mean absolute error: {}\".format(mean_absolute_error(outputs, actual_y)))\n",
    "print(\"Mean squared error: {}\".format(mean_squared_error(outputs, actual_y)))\n",
    "\n",
    "# Plotting\n",
    "plt.figure(figsize=(10, 6))\n",
    "plt.plot(results_df['Actual Y'], label='Actual Y', marker='o')\n",
    "plt.plot(results_df['Predicted Y'], label='Predicted Y', marker='x')\n",
    "plt.title('Actual vs Predicted Y')\n",
    "plt.xlabel('Index')\n",
    "plt.ylabel('Y Value')\n",
    "plt.legend()\n",
    "plt.grid(True)\n",
    "plt.show()"
   ]
  },
  {
   "cell_type": "code",
   "execution_count": 97,
   "metadata": {},
   "outputs": [
    {
     "data": {
      "text/plain": [
       "(4.358671888310219, 13.247038518843048)"
      ]
     },
     "execution_count": 97,
     "metadata": {},
     "output_type": "execute_result"
    }
   ],
   "source": [
    "\n",
    "\n",
    "x0 = np.array([1, 75, 345, 9.6, 92]) \n",
    "y_hat = np.dot(x0, beta)\n",
    "\n",
    "# Number of observations and parameters\n",
    "n = len(data)  \n",
    "p = len(beta) \n",
    "residuals = data['Y'] - np.dot(data.iloc[:, 1:], beta)  # Assuming first column is Y\n",
    "sigma_squared = np.sum(residuals**2) / (n - p)\n",
    "X = data.iloc[:, 1:] \n",
    "XtX_inv = np.linalg.inv(np.dot(X.T, X))\n",
    "se_y_hat = np.sqrt(sigma_squared * (1 + np.dot(np.dot(x0.T, XtX_inv), x0)))\n",
    "\n",
    "alpha = 0.01  # For a 99% confidence interval\n",
    "df = n - p\n",
    "t_critical = stats.t.ppf(1 - alpha/2, df)\n",
    "\n",
    "# 99% Confidence interval\n",
    "ci_lower = y_hat - t_critical * se_y_hat\n",
    "ci_upper = y_hat + t_critical * se_y_hat\n",
    "\n",
    "(ci_lower, ci_upper)\n"
   ]
  },
  {
   "cell_type": "code",
   "execution_count": 99,
   "metadata": {},
   "outputs": [],
   "source": [
    "# X"
   ]
  },
  {
   "cell_type": "markdown",
   "metadata": {},
   "source": [
    "## Part ii"
   ]
  },
  {
   "cell_type": "code",
   "execution_count": 100,
   "metadata": {},
   "outputs": [
    {
     "name": "stdout",
     "output_type": "stream",
     "text": [
      "Regression coefficients: \n",
      "[ 0.00519136  0.00113285  0.8501428  -0.00256479]\n"
     ]
    }
   ],
   "source": [
    "X = np.array(data.iloc[:45,2:])\n",
    "y = np.array(data.iloc[:45,0])\n",
    "X_transpose = X.T\n",
    "XtX = np.dot(X_transpose, X)\n",
    "XtX_inv = np.linalg.inv(XtX)\n",
    "Xty = np.dot(X_transpose, y)\n",
    "beta = np.dot(XtX_inv, Xty)\n",
    "print(\"Regression coefficients: \")\n",
    "print(beta)"
   ]
  },
  {
   "cell_type": "code",
   "execution_count": 101,
   "metadata": {},
   "outputs": [
    {
     "name": "stdout",
     "output_type": "stream",
     "text": [
      "predictied values from 46 to 53:\n",
      "[12.47117652  8.1974552   8.45249343  7.67843574  8.20346711  6.93175725\n",
      "  9.63470442  8.33058404]\n"
     ]
    }
   ],
   "source": [
    "# predictions\n",
    "x_test = np.array(data.iloc[45:54,2:])\n",
    "outputs = np.dot(x_test, beta)\n",
    "print(\"predictied values from 46 to 53:\")\n",
    "print(outputs)"
   ]
  },
  {
   "cell_type": "code",
   "execution_count": 102,
   "metadata": {},
   "outputs": [
    {
     "name": "stdout",
     "output_type": "stream",
     "text": [
      "Mean absolute error: 2.4129309730885\n",
      "Mean squared error: 8.574262269057344\n"
     ]
    },
    {
     "data": {
      "image/png": "[encoded data removed]",
      "text/plain": [
       "<Figure size 720x432 with 1 Axes>"
      ]
     },
     "metadata": {
      "needs_background": "light"
     },
     "output_type": "display_data"
    }
   ],
   "source": [
    "actual_y = data.iloc[45:54, 0]\n",
    "\n",
    "# Create a DataFrame with both actual and predicted values\n",
    "results_df = pd.DataFrame({\n",
    "    'Actual Y': actual_y,\n",
    "    'Predicted Y': outputs\n",
    "})\n",
    "\n",
    "print(\"Mean absolute error: {}\".format(mean_absolute_error(outputs, actual_y)))\n",
    "print(\"Mean squared error: {}\".format(mean_squared_error(outputs, actual_y)))\n",
    "\n",
    "# Plotting\n",
    "plt.figure(figsize=(10, 6))\n",
    "plt.plot(results_df['Actual Y'], label='Actual Y', marker='o')\n",
    "plt.plot(results_df['Predicted Y'], label='Predicted Y', marker='x')\n",
    "plt.title('Actual vs Predicted Y')\n",
    "plt.xlabel('Index')\n",
    "plt.ylabel('Y Value')\n",
    "plt.legend()\n",
    "plt.grid(True)\n",
    "plt.show()"
   ]
  },
  {
   "cell_type": "markdown",
   "metadata": {},
   "source": [
    "### The first model without using constants is preferred since the mean absolute error and the mean squared error in this case is significantly less than the previous one"
   ]
  },
  {
   "cell_type": "code",
   "execution_count": 103,
   "metadata": {},
   "outputs": [
    {
     "data": {
      "text/plain": [
       "(2.8496420380755154, 14.561548163591333)"
      ]
     },
     "execution_count": 103,
     "metadata": {},
     "output_type": "execute_result"
    }
   ],
   "source": [
    "x0 = np.array([75, 345, 9.6, 92]) \n",
    "y_hat = np.dot(x0, beta)\n",
    "\n",
    "# Number of observations and parameters\n",
    "n = len(data)  \n",
    "p = len(beta) \n",
    "residuals = data['Y'] - np.dot(data.iloc[:, 2:], beta)  # Assuming first column is Y\n",
    "sigma_squared = np.sum(residuals**2) / (n - p)\n",
    "X = data.iloc[:, 2:] \n",
    "XtX_inv = np.linalg.inv(np.dot(X.T, X))\n",
    "se_y_hat = np.sqrt(sigma_squared * (1 + np.dot(np.dot(x0.T, XtX_inv), x0)))\n",
    "\n",
    "alpha = 0.01  # For a 99% confidence interval\n",
    "df = n - p\n",
    "t_critical = stats.t.ppf(1 - alpha/2, df)\n",
    "\n",
    "# 99% Confidence interval\n",
    "ci_lower = y_hat - t_critical * se_y_hat\n",
    "ci_upper = y_hat + t_critical * se_y_hat\n",
    "\n",
    "(ci_lower, ci_upper)\n"
   ]
  },
  {
   "cell_type": "markdown",
   "metadata": {},
   "source": [
    "## Question 2 b"
   ]
  },
  {
   "cell_type": "code",
   "execution_count": 86,
   "metadata": {},
   "outputs": [
    {
     "data": {
      "text/plain": [
       "(64.375,\n",
       " 28.0,\n",
       " 41.125,\n",
       " 24.285714285714285,\n",
       " -10.015631784628738,\n",
       " 0.5905340859748154)"
      ]
     },
     "execution_count": 86,
     "metadata": {},
     "output_type": "execute_result"
    }
   ],
   "source": [
    "# Calculate the regression coefficients using mean and variances\n",
    "x = np.array([56,75,61,61,67,72,62,61])\n",
    "y = np.array([21,39,34,21,32,24,29,24])\n",
    "x_mean = np.mean(x)\n",
    "y_mean = np.mean(y)\n",
    "x_variance = np.var(x, ddof=1)  # Using ddof=1 for sample variance\n",
    "xy_covariance = np.cov(x, y, ddof=1)[0, 1]\n",
    "\n",
    "# Coefficients\n",
    "slope = xy_covariance / x_variance\n",
    "intercept = y_mean - slope * x_mean\n",
    "\n",
    "# Print all the calculated values\n",
    "x_mean, y_mean, x_variance, xy_covariance, intercept, slope\n",
    "\n"
   ]
  }
 ],
 "metadata": {
  "kernelspec": {
   "display_name": "Python 3",
   "language": "python",
   "name": "python3"
  },
  "language_info": {
   "codemirror_mode": {
    "name": "ipython",
    "version": 3
   },
   "file_extension": ".py",
   "mimetype": "text/x-python",
   "name": "python",
   "nbconvert_exporter": "python",
   "pygments_lexer": "ipython3",
   "version": "3.9.5"
  }
 },
 "nbformat": 4,
 "nbformat_minor": 2
}
